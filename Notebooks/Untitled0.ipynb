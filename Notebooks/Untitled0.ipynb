{
  "cells": [
    {
      "cell_type": "code",
      "execution_count": 1,
      "metadata": {
        "colab": {
          "base_uri": "https://localhost:8080/"
        },
        "id": "RHPmNiRWsx79",
        "outputId": "800adcf8-d343-42ff-d091-de8e045c3c3f"
      },
      "outputs": [
        {
          "name": "stdout",
          "output_type": "stream",
          "text": [
            "Mounted at /content/drive\n"
          ]
        }
      ],
      "source": [
        "from google.colab import drive\n",
        "drive.mount('/content/drive')"
      ]
    },
    {
      "cell_type": "code",
      "execution_count": 2,
      "metadata": {
        "id": "AnnqO_1Ks99V"
      },
      "outputs": [],
      "source": [
        "import pandas as pd\n",
        "import numpy as np"
      ]
    },
    {
      "cell_type": "code",
      "execution_count": 3,
      "metadata": {
        "id": "dv3VTPxFtNpY"
      },
      "outputs": [],
      "source": [
        "df = pd.read_csv('/content/drive/MyDrive/Colab Notebooks/My_project/cleaneddataset.csv')\n"
      ]
    },
    {
      "cell_type": "code",
      "execution_count": 4,
      "metadata": {
        "id": "oLCFNGWOtOk8"
      },
      "outputs": [],
      "source": [
        "df.drop(['promptqtn_clean'], axis=1, inplace = True)\n"
      ]
    },
    {
      "cell_type": "code",
      "execution_count": 33,
      "metadata": {
        "colab": {
          "base_uri": "https://localhost:8080/"
        },
        "id": "VeFDES9o5KDL",
        "outputId": "1687b69c-8536-44a7-a017-a2ea1e0a3d8e"
      },
      "outputs": [
        {
          "data": {
            "text/plain": [
              "Index(['text_clean', 'prompttext_clean', 'text_cnt_stopwords', 'text_cntpunct',\n",
              "       'text_wordcnt', 'text_length', 'text_syllablecnt', 'text_ARI',\n",
              "       'text_GFI', 'text_cntverb', 'text_cntadjctv', 'text_cntadvrb',\n",
              "       'text_cntnoun', 'text_cntpronoun', 'text_cntspecificpos', 'text_bigram',\n",
              "       'text_trigram', 'text_misspellcnt', 'text_unique',\n",
              "       'cos_similarity_text_prompt', 'content', 'wording'],\n",
              "      dtype='object')"
            ]
          },
          "execution_count": 33,
          "metadata": {},
          "output_type": "execute_result"
        }
      ],
      "source": [
        "df.columns"
      ]
    },
    {
      "cell_type": "code",
      "execution_count": 34,
      "metadata": {
        "id": "bL9sVMiV5Mp_"
      },
      "outputs": [],
      "source": [
        "order = ['prompttext_clean','text_clean','text_cnt_stopwords', 'text_cntpunct',\n",
        "       'text_wordcnt', 'text_length', 'text_syllablecnt', 'text_ARI',\n",
        "       'text_GFI', 'text_cntverb', 'text_cntadjctv', 'text_cntadvrb',\n",
        "       'text_cntnoun', 'text_cntpronoun', 'text_cntspecificpos', 'text_bigram',\n",
        "       'text_trigram', 'text_misspellcnt', 'text_unique',\n",
        "       'cos_similarity_text_prompt', 'content', 'wording']"
      ]
    },
    {
      "cell_type": "code",
      "execution_count": 35,
      "metadata": {
        "id": "Ysxv7I015Z7h"
      },
      "outputs": [],
      "source": [
        "df = df[order]"
      ]
    },
    {
      "cell_type": "code",
      "execution_count": 36,
      "metadata": {
        "colab": {
          "base_uri": "https://localhost:8080/"
        },
        "id": "2ciE7kX15cck",
        "outputId": "390e7334-f7cb-487a-bf3f-0b4964ba5108"
      },
      "outputs": [
        {
          "data": {
            "text/plain": [
              "Index(['prompttext_clean', 'text_clean', 'text_cnt_stopwords', 'text_cntpunct',\n",
              "       'text_wordcnt', 'text_length', 'text_syllablecnt', 'text_ARI',\n",
              "       'text_GFI', 'text_cntverb', 'text_cntadjctv', 'text_cntadvrb',\n",
              "       'text_cntnoun', 'text_cntpronoun', 'text_cntspecificpos', 'text_bigram',\n",
              "       'text_trigram', 'text_misspellcnt', 'text_unique',\n",
              "       'cos_similarity_text_prompt', 'content', 'wording'],\n",
              "      dtype='object')"
            ]
          },
          "execution_count": 36,
          "metadata": {},
          "output_type": "execute_result"
        }
      ],
      "source": [
        "df.columns"
      ]
    },
    {
      "cell_type": "code",
      "execution_count": 37,
      "metadata": {
        "id": "Wf78nTertUL8"
      },
      "outputs": [],
      "source": [
        "df.to_csv('/content/drive/MyDrive/Colab Notebooks/My_project/dataset.csv',index=False)"
      ]
    },
    {
      "cell_type": "code",
      "execution_count": 38,
      "metadata": {
        "colab": {
          "base_uri": "https://localhost:8080/",
          "height": 335
        },
        "id": "Usr_KOaVtik-",
        "outputId": "ec642c2c-40fb-4220-8c40-eadb54240c6d"
      },
      "outputs": [
        {
          "data": {
            "text/html": [
              "\n",
              "  <div id=\"df-819f7405-800c-40a1-80c1-5b2574498193\" class=\"colab-df-container\">\n",
              "    <div>\n",
              "<style scoped>\n",
              "    .dataframe tbody tr th:only-of-type {\n",
              "        vertical-align: middle;\n",
              "    }\n",
              "\n",
              "    .dataframe tbody tr th {\n",
              "        vertical-align: top;\n",
              "    }\n",
              "\n",
              "    .dataframe thead th {\n",
              "        text-align: right;\n",
              "    }\n",
              "</style>\n",
              "<table border=\"1\" class=\"dataframe\">\n",
              "  <thead>\n",
              "    <tr style=\"text-align: right;\">\n",
              "      <th></th>\n",
              "      <th>prompttext_clean</th>\n",
              "      <th>text_clean</th>\n",
              "      <th>text_cnt_stopwords</th>\n",
              "      <th>text_cntpunct</th>\n",
              "      <th>text_wordcnt</th>\n",
              "      <th>text_length</th>\n",
              "      <th>text_syllablecnt</th>\n",
              "      <th>text_ARI</th>\n",
              "      <th>text_GFI</th>\n",
              "      <th>text_cntverb</th>\n",
              "      <th>...</th>\n",
              "      <th>text_cntnoun</th>\n",
              "      <th>text_cntpronoun</th>\n",
              "      <th>text_cntspecificpos</th>\n",
              "      <th>text_bigram</th>\n",
              "      <th>text_trigram</th>\n",
              "      <th>text_misspellcnt</th>\n",
              "      <th>text_unique</th>\n",
              "      <th>cos_similarity_text_prompt</th>\n",
              "      <th>content</th>\n",
              "      <th>wording</th>\n",
              "    </tr>\n",
              "  </thead>\n",
              "  <tbody>\n",
              "    <tr>\n",
              "      <th>0</th>\n",
              "      <td>chapter sequel already say must proceed consid...</td>\n",
              "      <td>element ideal tragedy arrange complex plan ano...</td>\n",
              "      <td>31</td>\n",
              "      <td>3</td>\n",
              "      <td>55</td>\n",
              "      <td>285</td>\n",
              "      <td>94</td>\n",
              "      <td>25.85</td>\n",
              "      <td>24.18</td>\n",
              "      <td>3</td>\n",
              "      <td>...</td>\n",
              "      <td>11</td>\n",
              "      <td>3</td>\n",
              "      <td>5</td>\n",
              "      <td>54</td>\n",
              "      <td>53</td>\n",
              "      <td>0</td>\n",
              "      <td>33</td>\n",
              "      <td>0.167416</td>\n",
              "      <td>-0.210614</td>\n",
              "      <td>-0.471415</td>\n",
              "    </tr>\n",
              "    <tr>\n",
              "      <th>1</th>\n",
              "      <td>chapter sequel already say must proceed consid...</td>\n",
              "      <td>three element ideal tragedy character not bad ...</td>\n",
              "      <td>12</td>\n",
              "      <td>6</td>\n",
              "      <td>26</td>\n",
              "      <td>143</td>\n",
              "      <td>44</td>\n",
              "      <td>12.95</td>\n",
              "      <td>15.02</td>\n",
              "      <td>3</td>\n",
              "      <td>...</td>\n",
              "      <td>6</td>\n",
              "      <td>2</td>\n",
              "      <td>2</td>\n",
              "      <td>25</td>\n",
              "      <td>24</td>\n",
              "      <td>1</td>\n",
              "      <td>25</td>\n",
              "      <td>0.172985</td>\n",
              "      <td>-0.970237</td>\n",
              "      <td>-0.417058</td>\n",
              "    </tr>\n",
              "  </tbody>\n",
              "</table>\n",
              "<p>2 rows × 22 columns</p>\n",
              "</div>\n",
              "    <div class=\"colab-df-buttons\">\n",
              "\n",
              "  <div class=\"colab-df-container\">\n",
              "    <button class=\"colab-df-convert\" onclick=\"convertToInteractive('df-819f7405-800c-40a1-80c1-5b2574498193')\"\n",
              "            title=\"Convert this dataframe to an interactive table.\"\n",
              "            style=\"display:none;\">\n",
              "\n",
              "  <svg xmlns=\"http://www.w3.org/2000/svg\" height=\"24px\" viewBox=\"0 -960 960 960\">\n",
              "    <path d=\"M120-120v-720h720v720H120Zm60-500h600v-160H180v160Zm220 220h160v-160H400v160Zm0 220h160v-160H400v160ZM180-400h160v-160H180v160Zm440 0h160v-160H620v160ZM180-180h160v-160H180v160Zm440 0h160v-160H620v160Z\"/>\n",
              "  </svg>\n",
              "    </button>\n",
              "\n",
              "  <style>\n",
              "    .colab-df-container {\n",
              "      display:flex;\n",
              "      gap: 12px;\n",
              "    }\n",
              "\n",
              "    .colab-df-convert {\n",
              "      background-color: #E8F0FE;\n",
              "      border: none;\n",
              "      border-radius: 50%;\n",
              "      cursor: pointer;\n",
              "      display: none;\n",
              "      fill: #1967D2;\n",
              "      height: 32px;\n",
              "      padding: 0 0 0 0;\n",
              "      width: 32px;\n",
              "    }\n",
              "\n",
              "    .colab-df-convert:hover {\n",
              "      background-color: #E2EBFA;\n",
              "      box-shadow: 0px 1px 2px rgba(60, 64, 67, 0.3), 0px 1px 3px 1px rgba(60, 64, 67, 0.15);\n",
              "      fill: #174EA6;\n",
              "    }\n",
              "\n",
              "    .colab-df-buttons div {\n",
              "      margin-bottom: 4px;\n",
              "    }\n",
              "\n",
              "    [theme=dark] .colab-df-convert {\n",
              "      background-color: #3B4455;\n",
              "      fill: #D2E3FC;\n",
              "    }\n",
              "\n",
              "    [theme=dark] .colab-df-convert:hover {\n",
              "      background-color: #434B5C;\n",
              "      box-shadow: 0px 1px 3px 1px rgba(0, 0, 0, 0.15);\n",
              "      filter: drop-shadow(0px 1px 2px rgba(0, 0, 0, 0.3));\n",
              "      fill: #FFFFFF;\n",
              "    }\n",
              "  </style>\n",
              "\n",
              "    <script>\n",
              "      const buttonEl =\n",
              "        document.querySelector('#df-819f7405-800c-40a1-80c1-5b2574498193 button.colab-df-convert');\n",
              "      buttonEl.style.display =\n",
              "        google.colab.kernel.accessAllowed ? 'block' : 'none';\n",
              "\n",
              "      async function convertToInteractive(key) {\n",
              "        const element = document.querySelector('#df-819f7405-800c-40a1-80c1-5b2574498193');\n",
              "        const dataTable =\n",
              "          await google.colab.kernel.invokeFunction('convertToInteractive',\n",
              "                                                    [key], {});\n",
              "        if (!dataTable) return;\n",
              "\n",
              "        const docLinkHtml = 'Like what you see? Visit the ' +\n",
              "          '<a target=\"_blank\" href=https://colab.research.google.com/notebooks/data_table.ipynb>data table notebook</a>'\n",
              "          + ' to learn more about interactive tables.';\n",
              "        element.innerHTML = '';\n",
              "        dataTable['output_type'] = 'display_data';\n",
              "        await google.colab.output.renderOutput(dataTable, element);\n",
              "        const docLink = document.createElement('div');\n",
              "        docLink.innerHTML = docLinkHtml;\n",
              "        element.appendChild(docLink);\n",
              "      }\n",
              "    </script>\n",
              "  </div>\n",
              "\n",
              "\n",
              "<div id=\"df-b92a9b54-61bc-4bb2-aaca-3fc1db3945af\">\n",
              "  <button class=\"colab-df-quickchart\" onclick=\"quickchart('df-b92a9b54-61bc-4bb2-aaca-3fc1db3945af')\"\n",
              "            title=\"Suggest charts\"\n",
              "            style=\"display:none;\">\n",
              "\n",
              "<svg xmlns=\"http://www.w3.org/2000/svg\" height=\"24px\"viewBox=\"0 0 24 24\"\n",
              "     width=\"24px\">\n",
              "    <g>\n",
              "        <path d=\"M19 3H5c-1.1 0-2 .9-2 2v14c0 1.1.9 2 2 2h14c1.1 0 2-.9 2-2V5c0-1.1-.9-2-2-2zM9 17H7v-7h2v7zm4 0h-2V7h2v10zm4 0h-2v-4h2v4z\"/>\n",
              "    </g>\n",
              "</svg>\n",
              "  </button>\n",
              "\n",
              "<style>\n",
              "  .colab-df-quickchart {\n",
              "      --bg-color: #E8F0FE;\n",
              "      --fill-color: #1967D2;\n",
              "      --hover-bg-color: #E2EBFA;\n",
              "      --hover-fill-color: #174EA6;\n",
              "      --disabled-fill-color: #AAA;\n",
              "      --disabled-bg-color: #DDD;\n",
              "  }\n",
              "\n",
              "  [theme=dark] .colab-df-quickchart {\n",
              "      --bg-color: #3B4455;\n",
              "      --fill-color: #D2E3FC;\n",
              "      --hover-bg-color: #434B5C;\n",
              "      --hover-fill-color: #FFFFFF;\n",
              "      --disabled-bg-color: #3B4455;\n",
              "      --disabled-fill-color: #666;\n",
              "  }\n",
              "\n",
              "  .colab-df-quickchart {\n",
              "    background-color: var(--bg-color);\n",
              "    border: none;\n",
              "    border-radius: 50%;\n",
              "    cursor: pointer;\n",
              "    display: none;\n",
              "    fill: var(--fill-color);\n",
              "    height: 32px;\n",
              "    padding: 0;\n",
              "    width: 32px;\n",
              "  }\n",
              "\n",
              "  .colab-df-quickchart:hover {\n",
              "    background-color: var(--hover-bg-color);\n",
              "    box-shadow: 0 1px 2px rgba(60, 64, 67, 0.3), 0 1px 3px 1px rgba(60, 64, 67, 0.15);\n",
              "    fill: var(--button-hover-fill-color);\n",
              "  }\n",
              "\n",
              "  .colab-df-quickchart-complete:disabled,\n",
              "  .colab-df-quickchart-complete:disabled:hover {\n",
              "    background-color: var(--disabled-bg-color);\n",
              "    fill: var(--disabled-fill-color);\n",
              "    box-shadow: none;\n",
              "  }\n",
              "\n",
              "  .colab-df-spinner {\n",
              "    border: 2px solid var(--fill-color);\n",
              "    border-color: transparent;\n",
              "    border-bottom-color: var(--fill-color);\n",
              "    animation:\n",
              "      spin 1s steps(1) infinite;\n",
              "  }\n",
              "\n",
              "  @keyframes spin {\n",
              "    0% {\n",
              "      border-color: transparent;\n",
              "      border-bottom-color: var(--fill-color);\n",
              "      border-left-color: var(--fill-color);\n",
              "    }\n",
              "    20% {\n",
              "      border-color: transparent;\n",
              "      border-left-color: var(--fill-color);\n",
              "      border-top-color: var(--fill-color);\n",
              "    }\n",
              "    30% {\n",
              "      border-color: transparent;\n",
              "      border-left-color: var(--fill-color);\n",
              "      border-top-color: var(--fill-color);\n",
              "      border-right-color: var(--fill-color);\n",
              "    }\n",
              "    40% {\n",
              "      border-color: transparent;\n",
              "      border-right-color: var(--fill-color);\n",
              "      border-top-color: var(--fill-color);\n",
              "    }\n",
              "    60% {\n",
              "      border-color: transparent;\n",
              "      border-right-color: var(--fill-color);\n",
              "    }\n",
              "    80% {\n",
              "      border-color: transparent;\n",
              "      border-right-color: var(--fill-color);\n",
              "      border-bottom-color: var(--fill-color);\n",
              "    }\n",
              "    90% {\n",
              "      border-color: transparent;\n",
              "      border-bottom-color: var(--fill-color);\n",
              "    }\n",
              "  }\n",
              "</style>\n",
              "\n",
              "  <script>\n",
              "    async function quickchart(key) {\n",
              "      const quickchartButtonEl =\n",
              "        document.querySelector('#' + key + ' button');\n",
              "      quickchartButtonEl.disabled = true;  // To prevent multiple clicks.\n",
              "      quickchartButtonEl.classList.add('colab-df-spinner');\n",
              "      try {\n",
              "        const charts = await google.colab.kernel.invokeFunction(\n",
              "            'suggestCharts', [key], {});\n",
              "      } catch (error) {\n",
              "        console.error('Error during call to suggestCharts:', error);\n",
              "      }\n",
              "      quickchartButtonEl.classList.remove('colab-df-spinner');\n",
              "      quickchartButtonEl.classList.add('colab-df-quickchart-complete');\n",
              "    }\n",
              "    (() => {\n",
              "      let quickchartButtonEl =\n",
              "        document.querySelector('#df-b92a9b54-61bc-4bb2-aaca-3fc1db3945af button');\n",
              "      quickchartButtonEl.style.display =\n",
              "        google.colab.kernel.accessAllowed ? 'block' : 'none';\n",
              "    })();\n",
              "  </script>\n",
              "</div>\n",
              "\n",
              "    </div>\n",
              "  </div>\n"
            ],
            "text/plain": [
              "                                    prompttext_clean  \\\n",
              "0  chapter sequel already say must proceed consid...   \n",
              "1  chapter sequel already say must proceed consid...   \n",
              "\n",
              "                                          text_clean  text_cnt_stopwords  \\\n",
              "0  element ideal tragedy arrange complex plan ano...                  31   \n",
              "1  three element ideal tragedy character not bad ...                  12   \n",
              "\n",
              "   text_cntpunct  text_wordcnt  text_length  text_syllablecnt  text_ARI  \\\n",
              "0              3            55          285                94     25.85   \n",
              "1              6            26          143                44     12.95   \n",
              "\n",
              "   text_GFI  text_cntverb  ...  text_cntnoun  text_cntpronoun  \\\n",
              "0     24.18             3  ...            11                3   \n",
              "1     15.02             3  ...             6                2   \n",
              "\n",
              "   text_cntspecificpos  text_bigram  text_trigram  text_misspellcnt  \\\n",
              "0                    5           54            53                 0   \n",
              "1                    2           25            24                 1   \n",
              "\n",
              "   text_unique  cos_similarity_text_prompt   content   wording  \n",
              "0           33                    0.167416 -0.210614 -0.471415  \n",
              "1           25                    0.172985 -0.970237 -0.417058  \n",
              "\n",
              "[2 rows x 22 columns]"
            ]
          },
          "execution_count": 38,
          "metadata": {},
          "output_type": "execute_result"
        }
      ],
      "source": [
        "df.head(2)"
      ]
    },
    {
      "cell_type": "code",
      "execution_count": 39,
      "metadata": {
        "id": "19bMoCGrtrPM"
      },
      "outputs": [],
      "source": [
        "X = df.drop(['content','wording'],axis=1).values\n",
        "Y = df[['content','wording']]"
      ]
    },
    {
      "cell_type": "code",
      "execution_count": 40,
      "metadata": {
        "id": "0xSHb0gIt_RD"
      },
      "outputs": [],
      "source": [
        "from sklearn.model_selection import train_test_split\n",
        "x_train,x_test,y_train,y_test = train_test_split(X,Y, random_state=100, test_size=0.2)"
      ]
    },
    {
      "cell_type": "code",
      "execution_count": 41,
      "metadata": {
        "id": "VVQhJyQwuCIM"
      },
      "outputs": [],
      "source": [
        "from sklearn.feature_extraction.text import TfidfVectorizer\n",
        "vectorizer = TfidfVectorizer()"
      ]
    },
    {
      "cell_type": "code",
      "execution_count": 42,
      "metadata": {
        "id": "3b-YHhXNue_j"
      },
      "outputs": [],
      "source": [
        "x_train_list = x_train.tolist()  # Convert to list (if needed)\n",
        "x_train_list = [\" \".join(map(str, doc)) for doc in x_train_list]  # Join words into strings\n",
        "\n",
        "# Rest of your code (vectorization, model training, etc.)\n",
        "\n",
        "x_train_vtrsd = vectorizer.fit_transform(x_train_list)\n",
        "\n"
      ]
    },
    {
      "cell_type": "code",
      "execution_count": 43,
      "metadata": {
        "id": "8J4YE-HyufTT"
      },
      "outputs": [],
      "source": [
        "x_test_list = x_test.tolist()  # Convert to list (if needed)\n",
        "x_test_list = [\" \".join(map(str, doc)) for doc in x_test_list]"
      ]
    },
    {
      "cell_type": "code",
      "execution_count": 44,
      "metadata": {
        "id": "eEWwexwyuj2j"
      },
      "outputs": [],
      "source": [
        "x_test_vtrsd = vectorizer.transform(x_test_list)\n"
      ]
    },
    {
      "cell_type": "code",
      "execution_count": 1,
      "metadata": {
        "id": "-gR_oxSEukF0"
      },
      "outputs": [],
      "source": [
        "from sklearn.multioutput import MultiOutputRegressor\n",
        "from sklearn.ensemble import GradientBoostingRegressor"
      ]
    },
    {
      "cell_type": "code",
      "execution_count": 46,
      "metadata": {
        "id": "NE-xGUb5uw28"
      },
      "outputs": [],
      "source": [
        "reg = MultiOutputRegressor(GradientBoostingRegressor) "
      ]
    },
    {
      "cell_type": "code",
      "execution_count": 47,
      "metadata": {
        "id": "kSbAVI2fvLz8"
      },
      "outputs": [],
      "source": [
        "from sklearn.metrics import mean_squared_error, mean_absolute_error, r2_score\n"
      ]
    },
    {
      "cell_type": "code",
      "execution_count": 48,
      "metadata": {
        "id": "_L8qXjXQv3Sj"
      },
      "outputs": [],
      "source": [
        "model = MultiOutputRegressor(GradientBoostingRegressor(random_state=0)).fit(x_train_vtrsd,y_train)"
      ]
    },
    {
      "cell_type": "code",
      "execution_count": 49,
      "metadata": {
        "id": "9NUr40Tsv9oC"
      },
      "outputs": [],
      "source": [
        "predi = model.predict(x_test_vtrsd)"
      ]
    },
    {
      "cell_type": "code",
      "execution_count": 50,
      "metadata": {
        "colab": {
          "base_uri": "https://localhost:8080/"
        },
        "id": "zzue3C8mxFDc",
        "outputId": "c591726e-6485-4486-c32e-7487a58d1068"
      },
      "outputs": [
        {
          "data": {
            "text/plain": [
              "0.6225789233053038"
            ]
          },
          "execution_count": 50,
          "metadata": {},
          "output_type": "execute_result"
        }
      ],
      "source": [
        "r2_score(y_test,predi)"
      ]
    },
    {
      "cell_type": "code",
      "execution_count": 51,
      "metadata": {
        "colab": {
          "base_uri": "https://localhost:8080/"
        },
        "id": "B2rcnJdbxTO4",
        "outputId": "cfc14839-7fbb-447a-8883-d95421b3d833"
      },
      "outputs": [
        {
          "data": {
            "text/plain": [
              "0.46720866003935213"
            ]
          },
          "execution_count": 51,
          "metadata": {},
          "output_type": "execute_result"
        }
      ],
      "source": [
        "mean_absolute_error(y_test,predi)"
      ]
    },
    {
      "cell_type": "code",
      "execution_count": 52,
      "metadata": {
        "colab": {
          "base_uri": "https://localhost:8080/"
        },
        "id": "h56n1FjjxMVM",
        "outputId": "9c5a909c-71b6-4d62-ca7a-2abe658c586f"
      },
      "outputs": [
        {
          "data": {
            "text/plain": [
              "0.35516610464657283"
            ]
          },
          "execution_count": 52,
          "metadata": {},
          "output_type": "execute_result"
        }
      ],
      "source": [
        "mean_squared_error(y_test,predi)"
      ]
    },
    {
      "cell_type": "code",
      "execution_count": null,
      "metadata": {
        "id": "JZptAvPjx4iG"
      },
      "outputs": [],
      "source": [
        "import spacy\n",
        "import nltk\n",
        "nltk.download('stopwords')\n",
        "from nltk.corpus import stopwords\n",
        "from nltk.tokenize import sent_tokenize, word_tokenize\n",
        "import re\n",
        "import string\n",
        "from nltk.util import ngrams\n",
        "from nltk.corpus import wordnet\n",
        "from sklearn.feature_extraction.text import TfidfVectorizer\n",
        "from sklearn.metrics.pairwise import cosine_similarity\n",
        "!python3 -m spacy download en_core_web_md\n",
        "nltk.download('punkt')\n",
        "!pip3 install textstat\n",
        "from textstat import gunning_fog\n",
        "!pip install pyspellchecker\n",
        "from spellchecker import SpellChecker"
      ]
    },
    {
      "cell_type": "code",
      "execution_count": 53,
      "metadata": {
        "id": "PCQ-FglJxZqz"
      },
      "outputs": [],
      "source": [
        "nlp = spacy.load(\"en_core_web_md\")\n",
        "\n",
        "def count_stopwords(text: str) -> int:\n",
        "    stopwords_list = set(stopwords.words('english'))\n",
        "    words = text.split()\n",
        "    stopwords_count = sum(1 for word in words if word.lower() in stopwords_list)\n",
        "    return stopwords_count\n",
        "\n",
        "def count_punctuation(text: str) -> int:\n",
        "    punctuation_set = set(string.punctuation)\n",
        "    punctuation_count = sum(1 for char in text if char in punctuation_set)\n",
        "    return punctuation_count\n",
        "\n",
        "\n",
        "def collapse_dots(input):\n",
        "    # Collapse sequential dots\n",
        "    input = re.sub(\"\\.+\", \".\", input)\n",
        "    # Collapse dots separated by whitespaces\n",
        "    all_collapsed = False\n",
        "    while not all_collapsed:\n",
        "        output = re.sub(r\"\\.(( )*)\\.\", \".\", input)\n",
        "        all_collapsed = input == output\n",
        "        input = output\n",
        "    return output\n",
        "\n",
        "def clean_text(text:str, join_back=True):\n",
        "  result = []\n",
        "  sentences = sent_tokenize(text)\n",
        "  sentences = [collapse_dots(sentence) for sentence in sentences]\n",
        "  sentences = [sentence.strip() for sentence in sentences]\n",
        "\n",
        "  for sentence in sentences:\n",
        "    words = word_tokenize(sentence)\n",
        "\n",
        "    words = [re.sub(r'\\s+', ' ', word) for word in words]\n",
        "    words = [re.sub(r'[^a-zA-Z\\s]', '', word) for word in words]\n",
        "    words = [re.sub(r'[^\\w\\s]', '', word) for word in words]\n",
        "    words = [word.lower() for word in words]\n",
        "    # words = [word for word in words if word not in stop_words]\n",
        "    filtered_sentence = \" \".join(words)\n",
        "    result.append(filtered_sentence)\n",
        "\n",
        "  return \" \".join(result)\n",
        "\n",
        "def lemmatize_text(text):\n",
        "    doc = nlp(text)\n",
        "    lemmatized_text = \" \".join([token.lemma_ for token in doc])\n",
        "    return lemmatized_text\n",
        "\n",
        "def remove_extra_space(text:str):\n",
        "  text = re.sub(r'\\s+', ' ', text)\n",
        "  text = text.strip()\n",
        "  return text\n",
        "\n",
        "def count_total_words(text: str) -> int:\n",
        "    words = text.split()\n",
        "    total_words = len(words)\n",
        "    return total_words\n",
        "\n",
        "def count_syllables(word):\n",
        "    # Simple syllable counting (an approximation)\n",
        "    vowels = \"aeiouAEIOU\"\n",
        "    syllables = sum(1 for char in word if char in vowels)\n",
        "    return syllables\n",
        "\n",
        "def automated_readability_indexs(text):\n",
        "\n",
        "    doc = nlp(text)\n",
        "    # Calculate the number of words\n",
        "    word_count = len(doc)\n",
        "\n",
        "    # Calculate the number of sentences\n",
        "    sentence_count = len(list(doc.sents))\n",
        "\n",
        "    # Calculate the average number of letters per word\n",
        "    letters_per_word = sum(len(word.text) for word in doc) / word_count\n",
        "\n",
        "    # Calculate the average number of words per sentence\n",
        "    words_per_sentence = word_count / sentence_count if sentence_count > 0 else 0\n",
        "\n",
        "    # Calculate the ARI\n",
        "    ari = 4.71 * letters_per_word + 0.5 * words_per_sentence - 21.43\n",
        "\n",
        "    return ari\n",
        "\n",
        "def gunning_fog_index(text):\n",
        "  text = text\n",
        "  return gunning_fog(text)\n",
        "\n",
        "\n",
        "# Function to count verbs\n",
        "def count_verbs(text):\n",
        "    doc = nlp(text)\n",
        "    verbs = [token for token in doc if token.pos_ == \"VERB\"]\n",
        "    return len(verbs)\n",
        "\n",
        "# Function to count adjectives\n",
        "def count_adjectives(text):\n",
        "    doc = nlp(text)\n",
        "    adjectives = [token for token in doc if token.pos_ == \"ADJ\"]\n",
        "    return len(adjectives)\n",
        "\n",
        "# Function to count adverbs\n",
        "def count_adverbs(text):\n",
        "    doc = nlp(text)\n",
        "    adverbs = [token for token in doc if token.pos_ == \"ADV\"]\n",
        "    return len(adverbs)\n",
        "\n",
        "# Function to count nouns\n",
        "def count_nouns(text):\n",
        "    doc = nlp(text)\n",
        "    nouns = [token for token in doc if token.pos_ == \"NOUN\"]\n",
        "    return len(nouns)\n",
        "\n",
        "# Function to count pronouns\n",
        "def count_pronouns(text):\n",
        "    doc = nlp(text)\n",
        "    pronouns = [token for token in doc if token.pos_ == \"PRON\"]\n",
        "    return len(pronouns)\n",
        "\n",
        "def count_specific_pos(text, pos_tag):\n",
        "    # Count the number of words with a specific part-of-speech tag (e.g., \"ADP\" for prepositions)\n",
        "    doc = nlp(text)\n",
        "    pos_count = sum(1 for token in doc if token.pos_ == pos_tag)\n",
        "    return pos_count\n",
        "\n",
        "def count_bigrams(text: str) -> int:\n",
        "    words = word_tokenize(text)\n",
        "    bigrams = list(ngrams(words, 2))\n",
        "    return len(bigrams)\n",
        "\n",
        "def count_trigrams(text: str) -> int:\n",
        "    words = word_tokenize(text)\n",
        "    trigrams = list(ngrams(words, 3))\n",
        "    return len(trigrams)\n",
        "\n",
        "spell = SpellChecker()\n",
        "\n",
        "def misspelled_cnt(text):\n",
        "  spell = SpellChecker()\n",
        "  misspelled = spell.unknown(text.split())\n",
        "  count = len(misspelled)\n",
        "  return count\n",
        "\n",
        "\n",
        "def unique_count(text):\n",
        "  doc = nlp(text)\n",
        "  words = [token.text for token in doc]\n",
        "  unique = len(set(words))\n",
        "  return unique\n",
        "\n",
        "# want to remove all the stopwords other than not , since if we remove 'not' it may affect the meaning of the sentence\n",
        "\n",
        "stop_words = set(stopwords.words('english'))\n",
        "stop_words.remove('not')\n",
        "\n",
        "\n",
        "def remove_stopword(text):\n",
        "    text_tokens = word_tokenize(text)\n",
        "    text_tokens = [word for word in text_tokens if word not in stop_words]\n",
        "    return ' '.join(text_tokens)\n",
        "\n",
        "def cosine_similarity_text_prompt(text, prompt_text):\n",
        "    # Tokenize and remove stopwords\n",
        "    # Create TF-IDF vectors for text and prompt_text\n",
        "    vectorizer = TfidfVectorizer()\n",
        "    tfidf_matrix = vectorizer.fit_transform([text, prompt_text])\n",
        "\n",
        "    # Calculate cosine similarity\n",
        "    cosine_sim = cosine_similarity(tfidf_matrix[0], tfidf_matrix[1])\n",
        "\n",
        "    return cosine_sim[0][0]\n",
        "\n"
      ]
    },
    {
      "cell_type": "code",
      "execution_count": null,
      "metadata": {
        "id": "FBBb2A-6xpUk"
      },
      "outputs": [],
      "source": [
        "# def tokenization(prompt, summary):\n",
        "#   features = [prompt,summary]\n",
        "#   features = [\"\".join(map(str, doc)) for doc in features]\n",
        "#   features = vectorizer.fit_transform(features) # Join words into strings\n",
        "#   print(features)\n",
        "#   return features"
      ]
    },
    {
      "cell_type": "code",
      "execution_count": 79,
      "metadata": {
        "id": "7su4Q6Nlyy_h"
      },
      "outputs": [],
      "source": [
        "def prediction(prompt,summary):\n",
        "  x = [0,0,0,0,0,0,0,0,0,0,0,0,0,0,0,0,0,0,0,0]\n",
        "  text_cntstpwrd = count_stopwords(summary)\n",
        "  print(text_cntstpwrd)\n",
        "  text_cnt_punct = count_punctuation(summary)\n",
        "  summary = clean_text(summary)\n",
        "  prompt = clean_text(prompt)\n",
        "  summary = remove_extra_space(summary)\n",
        "  prompt = remove_extra_space(prompt)\n",
        "  text_wordcnt = count_total_words(summary)\n",
        "  text_len = len(summary)\n",
        "  text_syllablecnt = count_syllables(summary)\n",
        "  text_ARI = automated_readability_indexs(summary)\n",
        "  text_GFI = gunning_fog_index(summary)\n",
        "  text_cntverb = count_verbs(summary)\n",
        "  text_adjtv = count_adjectives(summary)\n",
        "  text_cntadvrb = count_adverbs(summary)\n",
        "  text_cntnoun = count_nouns(summary)\n",
        "  text_cntpronoun = count_pronouns(summary)\n",
        "  text_cntspecificpos = count_specific_pos(summary,'ADP')\n",
        "  text_bigram = count_bigrams(summary)\n",
        "  text_trigram = count_trigrams(summary)\n",
        "  text_misspelt = misspelled_cnt(summary)\n",
        "  text_unique = unique_count(summary)\n",
        "  summary = remove_stopword(summary)\n",
        "  prompt = remove_stopword(prompt)\n",
        "  summary = lemmatize_text(summary)\n",
        "  prompt = lemmatize_text(prompt)\n",
        "  cosine_similarity = cosine_similarity_text_prompt(summary,prompt)\n",
        "\n",
        "  x[0] = prompt\n",
        "  x[1] = summary\n",
        "  x[2] = text_cntstpwrd\n",
        "  x[3] = text_cnt_punct\n",
        "  x[4] = text_wordcnt\n",
        "  x[5] = text_len\n",
        "  x[6] = text_syllablecnt\n",
        "  x[7] = text_ARI\n",
        "  x[8] = text_GFI\n",
        "  x[9] = text_cntverb\n",
        "  x[10] = text_adjtv\n",
        "  x[11] = text_cntadvrb\n",
        "  x[12] = text_cntnoun\n",
        "  x[13] = text_cntpronoun\n",
        "  x[14] = text_cntspecificpos\n",
        "  x[15] = text_bigram\n",
        "  x[16] = text_trigram\n",
        "  x[17] = text_misspelt\n",
        "  x[18] = text_unique\n",
        "  x[19] = cosine_similarity\n",
        "\n",
        "  x_list = [\" \".join(map(str, x))]\n",
        "  x_vctrsd = vectorizer.transform(x_list)\n",
        "\n",
        "  return model.predict(x_vctrsd)\n",
        "\n",
        "\n",
        "\n",
        "\n",
        "\n"
      ]
    },
    {
      "cell_type": "code",
      "execution_count": 86,
      "metadata": {
        "colab": {
          "base_uri": "https://localhost:8080/"
        },
        "id": "YbO7Llli6uKK",
        "outputId": "ba925135-ec1e-4677-8d6a-1ebd6790269c"
      },
      "outputs": [
        {
          "data": {
            "text/plain": [
              "-0.417058297304168"
            ]
          },
          "execution_count": 86,
          "metadata": {},
          "output_type": "execute_result"
        }
      ],
      "source": [
        "df['wording'][1]"
      ]
    },
    {
      "cell_type": "code",
      "execution_count": 83,
      "metadata": {
        "colab": {
          "base_uri": "https://localhost:8080/"
        },
        "id": "o80FVvU34jVf",
        "outputId": "4700f41a-f64f-4e62-8499-706dc195d4c8"
      },
      "outputs": [
        {
          "name": "stdout",
          "output_type": "stream",
          "text": [
            "12\n"
          ]
        },
        {
          "data": {
            "text/plain": [
              "array([[-1.07638109, -1.11882929]])"
            ]
          },
          "execution_count": 83,
          "metadata": {},
          "output_type": "execute_result"
        }
      ],
      "source": [
        "prompt = '''Chapter 13\n",
        "As the sequel to what has already been said, we must proceed to consider what the poet should aim at, and what he should avoid, in constructing his plots; and by what means the specific effect of Tragedy will be produced.\n",
        "A perfect tragedy should, as we have seen, be arranged not on the simple but on the complex plan. It should, moreover, imitate actions which excite pity and fear, this being the distinctive mark of tragic imitation. It follows plainly, in the first place, that the change of fortune presented must not be the spectacle of a virtuous man brought from prosperity to adversity: for this moves neither pity nor fear; it merely shocks us. Nor, again, that of a bad man passing from adversity to prosperity: for nothing can be more alien to the spirit of Tragedy; it possesses no single tragic quality; it neither satisfies the moral sense nor calls forth pity or fear. Nor, again, should the downfall of the utter villain be exhibited. A plot of this kind would, doubtless, satisfy the moral sense, but it would inspire neither pity nor fear; for pity is aroused by unmerited misfortune, fear by the misfortune of a man like ourselves. Such an event, therefore, will be neither pitiful nor terrible. There remains, then, the character between these two extremes — that of a man who is not eminently good and just, yet whose misfortune is brought about not by vice or depravity, but by some error of judgement or frailty. He must be one who is highly renowned and prosperous — a personage like Oedipus, Thyestes, or other illustrious men of such families.\n",
        "A well-constructed plot should, therefore, be single in its issue, rather than double as some maintain. The change of fortune should be not from bad to good, but, reversely, from good to bad. It should come about as the result not of vice, but of some great error or frailty, in a character either such as we have described, or better rather than worse. The practice of the stage bears out our view. At first the poets recounted any legend that came in their way. Now, the best tragedies are founded on the story of a few houses — on the fortunes of Alcmaeon, Oedipus, Orestes, Meleager, Thyestes, Telephus, and those others who have done or suffered something terrible. A tragedy, then, to be perfect according to the rules of art, should be of this construction. Hence they are in error who censure Euripides just because he follows this principle in his plays, many of which end unhappily. It is, as we have said, the right ending. The best proof is that on the stage and in dramatic competition, such plays, if well worked out, are the most tragic in effect; and Euripides, faulty though he may be in the general management of his subject, yet is felt to be the most tragic of the poets.\n",
        "In the second rank comes the kind of tragedy which some place first. Like the Odyssey, it has a double thread of plot, and also an opposite catastrophe for the good and for the bad. It is accounted the best because of the weakness of the spectators; for the poet is guided in what he writes by the wishes of his audience. The pleasure, however, thence derived is not the true tragic pleasure. It is proper rather to Comedy, where those who, in the piece, are the deadliest enemies — like Orestes and Aegisthus — quit the stage as friends at the close, and no one slays or is slain.'''\n",
        "summary = '''The three elements of an ideal tragedy are:  Having a character that isn't bad have misfortune befall them.,  Having no subplots, and ending in death.  '''\n",
        "prediction(prompt,summary)"
      ]
    },
    {
      "cell_type": "code",
      "execution_count": 60,
      "metadata": {
        "colab": {
          "base_uri": "https://localhost:8080/"
        },
        "id": "QKrNgAA27Vue",
        "outputId": "1918c854-8542-4f3a-b358-6e242da1c297"
      },
      "outputs": [
        {
          "data": {
            "text/plain": [
              "Index(['prompttext_clean', 'text_clean', 'text_cnt_stopwords', 'text_cntpunct',\n",
              "       'text_wordcnt', 'text_length', 'text_syllablecnt', 'text_ARI',\n",
              "       'text_GFI', 'text_cntverb', 'text_cntadjctv', 'text_cntadvrb',\n",
              "       'text_cntnoun', 'text_cntpronoun', 'text_cntspecificpos', 'text_bigram',\n",
              "       'text_trigram', 'text_misspellcnt', 'text_unique',\n",
              "       'cos_similarity_text_prompt', 'content', 'wording'],\n",
              "      dtype='object')"
            ]
          },
          "execution_count": 60,
          "metadata": {},
          "output_type": "execute_result"
        }
      ],
      "source": [
        "df.columns"
      ]
    },
    {
      "cell_type": "code",
      "execution_count": 87,
      "metadata": {
        "colab": {
          "base_uri": "https://localhost:8080/"
        },
        "id": "Tm7bXg307c1M",
        "outputId": "8571f4ff-e25f-47d6-c595-19ffdd6f188e"
      },
      "outputs": [
        {
          "data": {
            "text/plain": [
              "['/content/drive/MyDrive/Colab Notebooks/My_project/ml_model.joblib']"
            ]
          },
          "execution_count": 87,
          "metadata": {},
          "output_type": "execute_result"
        }
      ],
      "source": [
        "import joblib\n",
        "# Save the model to a file\n",
        "joblib.dump(model, '/content/drive/MyDrive/Colab Notebooks/My_project/ml_model.joblib')\n"
      ]
    },
    {
      "cell_type": "code",
      "execution_count": null,
      "metadata": {
        "id": "5tHPRHxCEhgN"
      },
      "outputs": [],
      "source": []
    }
  ],
  "metadata": {
    "colab": {
      "provenance": []
    },
    "kernelspec": {
      "display_name": "Python 3",
      "name": "python3"
    },
    "language_info": {
      "codemirror_mode": {
        "name": "ipython",
        "version": 3
      },
      "file_extension": ".py",
      "mimetype": "text/x-python",
      "name": "python",
      "nbconvert_exporter": "python",
      "pygments_lexer": "ipython3",
      "version": "3.11.7"
    }
  },
  "nbformat": 4,
  "nbformat_minor": 0
}
