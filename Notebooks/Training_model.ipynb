{
  "nbformat": 4,
  "nbformat_minor": 0,
  "metadata": {
    "colab": {
      "provenance": []
    },
    "kernelspec": {
      "name": "python3",
      "display_name": "Python 3"
    },
    "language_info": {
      "name": "python"
    }
  },
  "cells": [
    {
      "cell_type": "code",
      "execution_count": 1,
      "metadata": {
        "colab": {
          "base_uri": "https://localhost:8080/"
        },
        "id": "RHPmNiRWsx79",
        "outputId": "a1521bc8-1e61-47ab-ef76-f0bf3c170280"
      },
      "outputs": [
        {
          "output_type": "stream",
          "name": "stdout",
          "text": [
            "Mounted at /content/drive\n"
          ]
        }
      ],
      "source": [
        "from google.colab import drive\n",
        "drive.mount('/content/drive')"
      ]
    },
    {
      "cell_type": "code",
      "source": [
        "import pandas as pd\n",
        "import numpy as np"
      ],
      "metadata": {
        "id": "AnnqO_1Ks99V"
      },
      "execution_count": 2,
      "outputs": []
    },
    {
      "cell_type": "code",
      "source": [
        "df = pd.read_csv('/content/drive/MyDrive/Colab Notebooks/My_project/dataset.csv')\n"
      ],
      "metadata": {
        "id": "dv3VTPxFtNpY"
      },
      "execution_count": 3,
      "outputs": []
    },
    {
      "cell_type": "code",
      "source": [
        "df.columns"
      ],
      "metadata": {
        "colab": {
          "base_uri": "https://localhost:8080/"
        },
        "id": "VeFDES9o5KDL",
        "outputId": "679af88d-3a9d-4f55-ed9a-a48f47ab42f9"
      },
      "execution_count": 4,
      "outputs": [
        {
          "output_type": "execute_result",
          "data": {
            "text/plain": [
              "Index(['prompttext_clean', 'text_clean', 'text_cnt_stopwords', 'text_cntpunct',\n",
              "       'text_wordcnt', 'text_length', 'text_syllablecnt', 'text_ARI',\n",
              "       'text_GFI', 'text_cntverb', 'text_cntadjctv', 'text_cntadvrb',\n",
              "       'text_cntnoun', 'text_cntpronoun', 'text_cntspecificpos', 'text_bigram',\n",
              "       'text_trigram', 'text_misspellcnt', 'text_unique',\n",
              "       'cos_similarity_text_prompt', 'content', 'wording'],\n",
              "      dtype='object')"
            ]
          },
          "metadata": {},
          "execution_count": 4
        }
      ]
    },
    {
      "cell_type": "code",
      "source": [
        "df.head(2)"
      ],
      "metadata": {
        "colab": {
          "base_uri": "https://localhost:8080/",
          "height": 335
        },
        "id": "Usr_KOaVtik-",
        "outputId": "c1fc6022-5209-42a7-c9e7-bd13ea25f1e2"
      },
      "execution_count": 5,
      "outputs": [
        {
          "output_type": "execute_result",
          "data": {
            "text/plain": [
              "                                    prompttext_clean  \\\n",
              "0  chapter sequel already say must proceed consid...   \n",
              "1  chapter sequel already say must proceed consid...   \n",
              "\n",
              "                                          text_clean  text_cnt_stopwords  \\\n",
              "0  element ideal tragedy arrange complex plan ano...                  31   \n",
              "1  three element ideal tragedy character not bad ...                  12   \n",
              "\n",
              "   text_cntpunct  text_wordcnt  text_length  text_syllablecnt  text_ARI  \\\n",
              "0              3            55          285                94     25.85   \n",
              "1              6            26          143                44     12.95   \n",
              "\n",
              "   text_GFI  text_cntverb  ...  text_cntnoun  text_cntpronoun  \\\n",
              "0     24.18             3  ...            11                3   \n",
              "1     15.02             3  ...             6                2   \n",
              "\n",
              "   text_cntspecificpos  text_bigram  text_trigram  text_misspellcnt  \\\n",
              "0                    5           54            53                 0   \n",
              "1                    2           25            24                 1   \n",
              "\n",
              "   text_unique  cos_similarity_text_prompt   content   wording  \n",
              "0           33                    0.167416 -0.210614 -0.471415  \n",
              "1           25                    0.172985 -0.970237 -0.417058  \n",
              "\n",
              "[2 rows x 22 columns]"
            ],
            "text/html": [
              "\n",
              "  <div id=\"df-d76cfca4-5d53-496a-b426-f2794c84c45f\" class=\"colab-df-container\">\n",
              "    <div>\n",
              "<style scoped>\n",
              "    .dataframe tbody tr th:only-of-type {\n",
              "        vertical-align: middle;\n",
              "    }\n",
              "\n",
              "    .dataframe tbody tr th {\n",
              "        vertical-align: top;\n",
              "    }\n",
              "\n",
              "    .dataframe thead th {\n",
              "        text-align: right;\n",
              "    }\n",
              "</style>\n",
              "<table border=\"1\" class=\"dataframe\">\n",
              "  <thead>\n",
              "    <tr style=\"text-align: right;\">\n",
              "      <th></th>\n",
              "      <th>prompttext_clean</th>\n",
              "      <th>text_clean</th>\n",
              "      <th>text_cnt_stopwords</th>\n",
              "      <th>text_cntpunct</th>\n",
              "      <th>text_wordcnt</th>\n",
              "      <th>text_length</th>\n",
              "      <th>text_syllablecnt</th>\n",
              "      <th>text_ARI</th>\n",
              "      <th>text_GFI</th>\n",
              "      <th>text_cntverb</th>\n",
              "      <th>...</th>\n",
              "      <th>text_cntnoun</th>\n",
              "      <th>text_cntpronoun</th>\n",
              "      <th>text_cntspecificpos</th>\n",
              "      <th>text_bigram</th>\n",
              "      <th>text_trigram</th>\n",
              "      <th>text_misspellcnt</th>\n",
              "      <th>text_unique</th>\n",
              "      <th>cos_similarity_text_prompt</th>\n",
              "      <th>content</th>\n",
              "      <th>wording</th>\n",
              "    </tr>\n",
              "  </thead>\n",
              "  <tbody>\n",
              "    <tr>\n",
              "      <th>0</th>\n",
              "      <td>chapter sequel already say must proceed consid...</td>\n",
              "      <td>element ideal tragedy arrange complex plan ano...</td>\n",
              "      <td>31</td>\n",
              "      <td>3</td>\n",
              "      <td>55</td>\n",
              "      <td>285</td>\n",
              "      <td>94</td>\n",
              "      <td>25.85</td>\n",
              "      <td>24.18</td>\n",
              "      <td>3</td>\n",
              "      <td>...</td>\n",
              "      <td>11</td>\n",
              "      <td>3</td>\n",
              "      <td>5</td>\n",
              "      <td>54</td>\n",
              "      <td>53</td>\n",
              "      <td>0</td>\n",
              "      <td>33</td>\n",
              "      <td>0.167416</td>\n",
              "      <td>-0.210614</td>\n",
              "      <td>-0.471415</td>\n",
              "    </tr>\n",
              "    <tr>\n",
              "      <th>1</th>\n",
              "      <td>chapter sequel already say must proceed consid...</td>\n",
              "      <td>three element ideal tragedy character not bad ...</td>\n",
              "      <td>12</td>\n",
              "      <td>6</td>\n",
              "      <td>26</td>\n",
              "      <td>143</td>\n",
              "      <td>44</td>\n",
              "      <td>12.95</td>\n",
              "      <td>15.02</td>\n",
              "      <td>3</td>\n",
              "      <td>...</td>\n",
              "      <td>6</td>\n",
              "      <td>2</td>\n",
              "      <td>2</td>\n",
              "      <td>25</td>\n",
              "      <td>24</td>\n",
              "      <td>1</td>\n",
              "      <td>25</td>\n",
              "      <td>0.172985</td>\n",
              "      <td>-0.970237</td>\n",
              "      <td>-0.417058</td>\n",
              "    </tr>\n",
              "  </tbody>\n",
              "</table>\n",
              "<p>2 rows × 22 columns</p>\n",
              "</div>\n",
              "    <div class=\"colab-df-buttons\">\n",
              "\n",
              "  <div class=\"colab-df-container\">\n",
              "    <button class=\"colab-df-convert\" onclick=\"convertToInteractive('df-d76cfca4-5d53-496a-b426-f2794c84c45f')\"\n",
              "            title=\"Convert this dataframe to an interactive table.\"\n",
              "            style=\"display:none;\">\n",
              "\n",
              "  <svg xmlns=\"http://www.w3.org/2000/svg\" height=\"24px\" viewBox=\"0 -960 960 960\">\n",
              "    <path d=\"M120-120v-720h720v720H120Zm60-500h600v-160H180v160Zm220 220h160v-160H400v160Zm0 220h160v-160H400v160ZM180-400h160v-160H180v160Zm440 0h160v-160H620v160ZM180-180h160v-160H180v160Zm440 0h160v-160H620v160Z\"/>\n",
              "  </svg>\n",
              "    </button>\n",
              "\n",
              "  <style>\n",
              "    .colab-df-container {\n",
              "      display:flex;\n",
              "      gap: 12px;\n",
              "    }\n",
              "\n",
              "    .colab-df-convert {\n",
              "      background-color: #E8F0FE;\n",
              "      border: none;\n",
              "      border-radius: 50%;\n",
              "      cursor: pointer;\n",
              "      display: none;\n",
              "      fill: #1967D2;\n",
              "      height: 32px;\n",
              "      padding: 0 0 0 0;\n",
              "      width: 32px;\n",
              "    }\n",
              "\n",
              "    .colab-df-convert:hover {\n",
              "      background-color: #E2EBFA;\n",
              "      box-shadow: 0px 1px 2px rgba(60, 64, 67, 0.3), 0px 1px 3px 1px rgba(60, 64, 67, 0.15);\n",
              "      fill: #174EA6;\n",
              "    }\n",
              "\n",
              "    .colab-df-buttons div {\n",
              "      margin-bottom: 4px;\n",
              "    }\n",
              "\n",
              "    [theme=dark] .colab-df-convert {\n",
              "      background-color: #3B4455;\n",
              "      fill: #D2E3FC;\n",
              "    }\n",
              "\n",
              "    [theme=dark] .colab-df-convert:hover {\n",
              "      background-color: #434B5C;\n",
              "      box-shadow: 0px 1px 3px 1px rgba(0, 0, 0, 0.15);\n",
              "      filter: drop-shadow(0px 1px 2px rgba(0, 0, 0, 0.3));\n",
              "      fill: #FFFFFF;\n",
              "    }\n",
              "  </style>\n",
              "\n",
              "    <script>\n",
              "      const buttonEl =\n",
              "        document.querySelector('#df-d76cfca4-5d53-496a-b426-f2794c84c45f button.colab-df-convert');\n",
              "      buttonEl.style.display =\n",
              "        google.colab.kernel.accessAllowed ? 'block' : 'none';\n",
              "\n",
              "      async function convertToInteractive(key) {\n",
              "        const element = document.querySelector('#df-d76cfca4-5d53-496a-b426-f2794c84c45f');\n",
              "        const dataTable =\n",
              "          await google.colab.kernel.invokeFunction('convertToInteractive',\n",
              "                                                    [key], {});\n",
              "        if (!dataTable) return;\n",
              "\n",
              "        const docLinkHtml = 'Like what you see? Visit the ' +\n",
              "          '<a target=\"_blank\" href=https://colab.research.google.com/notebooks/data_table.ipynb>data table notebook</a>'\n",
              "          + ' to learn more about interactive tables.';\n",
              "        element.innerHTML = '';\n",
              "        dataTable['output_type'] = 'display_data';\n",
              "        await google.colab.output.renderOutput(dataTable, element);\n",
              "        const docLink = document.createElement('div');\n",
              "        docLink.innerHTML = docLinkHtml;\n",
              "        element.appendChild(docLink);\n",
              "      }\n",
              "    </script>\n",
              "  </div>\n",
              "\n",
              "\n",
              "<div id=\"df-8d070b8e-26b1-445c-9697-70dc097f3d2c\">\n",
              "  <button class=\"colab-df-quickchart\" onclick=\"quickchart('df-8d070b8e-26b1-445c-9697-70dc097f3d2c')\"\n",
              "            title=\"Suggest charts\"\n",
              "            style=\"display:none;\">\n",
              "\n",
              "<svg xmlns=\"http://www.w3.org/2000/svg\" height=\"24px\"viewBox=\"0 0 24 24\"\n",
              "     width=\"24px\">\n",
              "    <g>\n",
              "        <path d=\"M19 3H5c-1.1 0-2 .9-2 2v14c0 1.1.9 2 2 2h14c1.1 0 2-.9 2-2V5c0-1.1-.9-2-2-2zM9 17H7v-7h2v7zm4 0h-2V7h2v10zm4 0h-2v-4h2v4z\"/>\n",
              "    </g>\n",
              "</svg>\n",
              "  </button>\n",
              "\n",
              "<style>\n",
              "  .colab-df-quickchart {\n",
              "      --bg-color: #E8F0FE;\n",
              "      --fill-color: #1967D2;\n",
              "      --hover-bg-color: #E2EBFA;\n",
              "      --hover-fill-color: #174EA6;\n",
              "      --disabled-fill-color: #AAA;\n",
              "      --disabled-bg-color: #DDD;\n",
              "  }\n",
              "\n",
              "  [theme=dark] .colab-df-quickchart {\n",
              "      --bg-color: #3B4455;\n",
              "      --fill-color: #D2E3FC;\n",
              "      --hover-bg-color: #434B5C;\n",
              "      --hover-fill-color: #FFFFFF;\n",
              "      --disabled-bg-color: #3B4455;\n",
              "      --disabled-fill-color: #666;\n",
              "  }\n",
              "\n",
              "  .colab-df-quickchart {\n",
              "    background-color: var(--bg-color);\n",
              "    border: none;\n",
              "    border-radius: 50%;\n",
              "    cursor: pointer;\n",
              "    display: none;\n",
              "    fill: var(--fill-color);\n",
              "    height: 32px;\n",
              "    padding: 0;\n",
              "    width: 32px;\n",
              "  }\n",
              "\n",
              "  .colab-df-quickchart:hover {\n",
              "    background-color: var(--hover-bg-color);\n",
              "    box-shadow: 0 1px 2px rgba(60, 64, 67, 0.3), 0 1px 3px 1px rgba(60, 64, 67, 0.15);\n",
              "    fill: var(--button-hover-fill-color);\n",
              "  }\n",
              "\n",
              "  .colab-df-quickchart-complete:disabled,\n",
              "  .colab-df-quickchart-complete:disabled:hover {\n",
              "    background-color: var(--disabled-bg-color);\n",
              "    fill: var(--disabled-fill-color);\n",
              "    box-shadow: none;\n",
              "  }\n",
              "\n",
              "  .colab-df-spinner {\n",
              "    border: 2px solid var(--fill-color);\n",
              "    border-color: transparent;\n",
              "    border-bottom-color: var(--fill-color);\n",
              "    animation:\n",
              "      spin 1s steps(1) infinite;\n",
              "  }\n",
              "\n",
              "  @keyframes spin {\n",
              "    0% {\n",
              "      border-color: transparent;\n",
              "      border-bottom-color: var(--fill-color);\n",
              "      border-left-color: var(--fill-color);\n",
              "    }\n",
              "    20% {\n",
              "      border-color: transparent;\n",
              "      border-left-color: var(--fill-color);\n",
              "      border-top-color: var(--fill-color);\n",
              "    }\n",
              "    30% {\n",
              "      border-color: transparent;\n",
              "      border-left-color: var(--fill-color);\n",
              "      border-top-color: var(--fill-color);\n",
              "      border-right-color: var(--fill-color);\n",
              "    }\n",
              "    40% {\n",
              "      border-color: transparent;\n",
              "      border-right-color: var(--fill-color);\n",
              "      border-top-color: var(--fill-color);\n",
              "    }\n",
              "    60% {\n",
              "      border-color: transparent;\n",
              "      border-right-color: var(--fill-color);\n",
              "    }\n",
              "    80% {\n",
              "      border-color: transparent;\n",
              "      border-right-color: var(--fill-color);\n",
              "      border-bottom-color: var(--fill-color);\n",
              "    }\n",
              "    90% {\n",
              "      border-color: transparent;\n",
              "      border-bottom-color: var(--fill-color);\n",
              "    }\n",
              "  }\n",
              "</style>\n",
              "\n",
              "  <script>\n",
              "    async function quickchart(key) {\n",
              "      const quickchartButtonEl =\n",
              "        document.querySelector('#' + key + ' button');\n",
              "      quickchartButtonEl.disabled = true;  // To prevent multiple clicks.\n",
              "      quickchartButtonEl.classList.add('colab-df-spinner');\n",
              "      try {\n",
              "        const charts = await google.colab.kernel.invokeFunction(\n",
              "            'suggestCharts', [key], {});\n",
              "      } catch (error) {\n",
              "        console.error('Error during call to suggestCharts:', error);\n",
              "      }\n",
              "      quickchartButtonEl.classList.remove('colab-df-spinner');\n",
              "      quickchartButtonEl.classList.add('colab-df-quickchart-complete');\n",
              "    }\n",
              "    (() => {\n",
              "      let quickchartButtonEl =\n",
              "        document.querySelector('#df-8d070b8e-26b1-445c-9697-70dc097f3d2c button');\n",
              "      quickchartButtonEl.style.display =\n",
              "        google.colab.kernel.accessAllowed ? 'block' : 'none';\n",
              "    })();\n",
              "  </script>\n",
              "</div>\n",
              "\n",
              "    </div>\n",
              "  </div>\n"
            ]
          },
          "metadata": {},
          "execution_count": 5
        }
      ]
    },
    {
      "cell_type": "code",
      "source": [
        "X = df.drop(['content','wording'],axis=1).values\n",
        "Y = df[['content','wording']]"
      ],
      "metadata": {
        "id": "19bMoCGrtrPM"
      },
      "execution_count": 6,
      "outputs": []
    },
    {
      "cell_type": "code",
      "source": [
        "from sklearn.model_selection import train_test_split\n",
        "x_train,x_test,y_train,y_test = train_test_split(X,Y, random_state=100, test_size=0.2)"
      ],
      "metadata": {
        "id": "0xSHb0gIt_RD"
      },
      "execution_count": 7,
      "outputs": []
    },
    {
      "cell_type": "code",
      "source": [
        "from sklearn.feature_extraction.text import TfidfVectorizer\n",
        "vectorizer = TfidfVectorizer()"
      ],
      "metadata": {
        "id": "VVQhJyQwuCIM"
      },
      "execution_count": 8,
      "outputs": []
    },
    {
      "cell_type": "code",
      "source": [
        "x_traintext = x_train[:,:2]"
      ],
      "metadata": {
        "id": "Fogls-vKQ6kC"
      },
      "execution_count": 9,
      "outputs": []
    },
    {
      "cell_type": "code",
      "source": [
        "x_traintxt_list = x_traintext.tolist()  # Convert to list (if needed)\n",
        "x_traintxt_list = [\" \".join(map(str, doc)) for doc in x_traintxt_list]  # Join words into strings\n",
        "\n",
        "# Rest of your code (vectorization, model training, etc.)\n",
        "\n",
        "x_traintxt_vtrsd = vectorizer.fit_transform(x_traintxt_list)"
      ],
      "metadata": {
        "id": "YTOSjY8qS0aq"
      },
      "execution_count": 10,
      "outputs": []
    },
    {
      "cell_type": "code",
      "source": [
        "type(x_traintxt_vtrsd)"
      ],
      "metadata": {
        "colab": {
          "base_uri": "https://localhost:8080/"
        },
        "id": "jIFxbhkGS_Jy",
        "outputId": "5febeccc-1285-486b-f38f-39499ea4f388"
      },
      "execution_count": 11,
      "outputs": [
        {
          "output_type": "execute_result",
          "data": {
            "text/plain": [
              "scipy.sparse._csr.csr_matrix"
            ]
          },
          "metadata": {},
          "execution_count": 11
        }
      ]
    },
    {
      "cell_type": "code",
      "source": [
        "len(vectorizer.get_feature_names_out())"
      ],
      "metadata": {
        "colab": {
          "base_uri": "https://localhost:8080/"
        },
        "id": "t4fTad3eUj6Y",
        "outputId": "8fb0c9b4-d55e-41b2-ab70-23a0c34cc542"
      },
      "execution_count": 12,
      "outputs": [
        {
          "output_type": "execute_result",
          "data": {
            "text/plain": [
              "9106"
            ]
          },
          "metadata": {},
          "execution_count": 12
        }
      ]
    },
    {
      "cell_type": "code",
      "source": [
        "x_train.shape"
      ],
      "metadata": {
        "colab": {
          "base_uri": "https://localhost:8080/"
        },
        "id": "VEyzO8fRU2Hm",
        "outputId": "c04f80a6-8906-42bc-8ecd-5001b616bbd9"
      },
      "execution_count": 13,
      "outputs": [
        {
          "output_type": "execute_result",
          "data": {
            "text/plain": [
              "(5572, 20)"
            ]
          },
          "metadata": {},
          "execution_count": 13
        }
      ]
    },
    {
      "cell_type": "code",
      "source": [
        "x_trainnum = x_train[:,2:]\n"
      ],
      "metadata": {
        "id": "Qm08JrvLUtX7"
      },
      "execution_count": 14,
      "outputs": []
    },
    {
      "cell_type": "code",
      "source": [
        "dense_array = x_traintxt_vtrsd.toarray()"
      ],
      "metadata": {
        "id": "pegDO8gxV-j6"
      },
      "execution_count": 15,
      "outputs": []
    },
    {
      "cell_type": "code",
      "source": [
        "dense_array.shape"
      ],
      "metadata": {
        "colab": {
          "base_uri": "https://localhost:8080/"
        },
        "id": "C97VJB4QWgk2",
        "outputId": "73823a69-2f1b-4a98-ee0a-7664ea246ef8"
      },
      "execution_count": 16,
      "outputs": [
        {
          "output_type": "execute_result",
          "data": {
            "text/plain": [
              "(5572, 9106)"
            ]
          },
          "metadata": {},
          "execution_count": 16
        }
      ]
    },
    {
      "cell_type": "code",
      "source": [
        "merged_array = np.hstack((dense_array, x_trainnum))"
      ],
      "metadata": {
        "id": "1ho7oVjsWQ5B"
      },
      "execution_count": 17,
      "outputs": []
    },
    {
      "cell_type": "code",
      "source": [
        "merged_array"
      ],
      "metadata": {
        "colab": {
          "base_uri": "https://localhost:8080/"
        },
        "id": "Myg25ddtWYmX",
        "outputId": "fb5bfedf-6700-48cb-c031-2e4385f5c12d"
      },
      "execution_count": 18,
      "outputs": [
        {
          "output_type": "execute_result",
          "data": {
            "text/plain": [
              "array([[0.0, 0.0, 0.0, ..., 2, 77, 0.4839867708409886],\n",
              "       [0.0, 0.0, 0.0, ..., 0, 26, 0.4387080703839858],\n",
              "       [0.0, 0.0, 0.0, ..., 3, 31, 0.1428077141977683],\n",
              "       ...,\n",
              "       [0.0, 0.0, 0.0, ..., 3, 64, 0.4722183975941029],\n",
              "       [0.0, 0.0, 0.0, ..., 2, 53, 0.287440703604517],\n",
              "       [0.0, 0.0, 0.0, ..., 1, 83, 0.5461951065400601]], dtype=object)"
            ]
          },
          "metadata": {},
          "execution_count": 18
        }
      ]
    },
    {
      "cell_type": "code",
      "source": [
        "x_testtext = x_test[:,:2]\n",
        "x_testnum = x_test[:,2:]"
      ],
      "metadata": {
        "id": "EljQEClaXju1"
      },
      "execution_count": 19,
      "outputs": []
    },
    {
      "cell_type": "code",
      "source": [
        "x_testxt_list = x_testtext.tolist()  # Convert to list (if needed)\n",
        "x_testxt_list = [\" \".join(map(str, doc)) for doc in x_testxt_list]  # Join words into strings\n",
        "\n",
        "# Rest of your code (vectorization, model training, etc.)\n",
        "\n",
        "x_testtxt_vtrsd = vectorizer.transform(x_testxt_list)"
      ],
      "metadata": {
        "id": "dWu3ioDrT2rp"
      },
      "execution_count": 20,
      "outputs": []
    },
    {
      "cell_type": "code",
      "source": [
        "densetest_array = x_testtxt_vtrsd.toarray()\n"
      ],
      "metadata": {
        "id": "zIQBCi7VX5-n"
      },
      "execution_count": 21,
      "outputs": []
    },
    {
      "cell_type": "code",
      "source": [
        "mergedtest_array = np.hstack((densetest_array, x_testnum))\n"
      ],
      "metadata": {
        "id": "jw57QuFRYDgM"
      },
      "execution_count": 22,
      "outputs": []
    },
    {
      "cell_type": "code",
      "source": [
        "from sklearn.multioutput import MultiOutputRegressor\n",
        "from sklearn.ensemble import GradientBoostingRegressor\n",
        "from sklearn.metrics import mean_squared_error, mean_absolute_error, r2_score"
      ],
      "metadata": {
        "id": "oW9MUw3Bk-Fm"
      },
      "execution_count": 24,
      "outputs": []
    },
    {
      "cell_type": "code",
      "source": [
        "model = MultiOutputRegressor(GradientBoostingRegressor(random_state=0)).fit(merged_array,y_train)\n",
        "predi = model.predict(mergedtest_array)\n",
        "r2_score(y_test,predi)"
      ],
      "metadata": {
        "id": "gKOBhoRrYYSQ",
        "colab": {
          "base_uri": "https://localhost:8080/"
        },
        "outputId": "d6155cef-5b26-48a6-9a68-2583f9dc9123"
      },
      "execution_count": 25,
      "outputs": [
        {
          "output_type": "execute_result",
          "data": {
            "text/plain": [
              "0.6848979964507862"
            ]
          },
          "metadata": {},
          "execution_count": 25
        }
      ]
    },
    {
      "cell_type": "code",
      "source": [
        "print(mean_absolute_error(y_test,predi))\n",
        "print(mean_squared_error(y_test,predi))"
      ],
      "metadata": {
        "colab": {
          "base_uri": "https://localhost:8080/"
        },
        "id": "9gIZXhKORGky",
        "outputId": "310d72a0-1715-4430-a709-e7b353fe951b"
      },
      "execution_count": 27,
      "outputs": [
        {
          "output_type": "stream",
          "name": "stdout",
          "text": [
            "0.41721487557501763\n",
            "0.29665788887334277\n"
          ]
        }
      ]
    },
    {
      "cell_type": "code",
      "source": [
        "from sklearn import metrics\n",
        "\n",
        "metrics.get_scorer_names()"
      ],
      "metadata": {
        "colab": {
          "base_uri": "https://localhost:8080/"
        },
        "id": "C74eV2JNUO-l",
        "outputId": "62f93344-fbd3-4538-9dab-5046ff9bf293"
      },
      "execution_count": 30,
      "outputs": [
        {
          "output_type": "execute_result",
          "data": {
            "text/plain": [
              "['accuracy',\n",
              " 'adjusted_mutual_info_score',\n",
              " 'adjusted_rand_score',\n",
              " 'average_precision',\n",
              " 'balanced_accuracy',\n",
              " 'completeness_score',\n",
              " 'explained_variance',\n",
              " 'f1',\n",
              " 'f1_macro',\n",
              " 'f1_micro',\n",
              " 'f1_samples',\n",
              " 'f1_weighted',\n",
              " 'fowlkes_mallows_score',\n",
              " 'homogeneity_score',\n",
              " 'jaccard',\n",
              " 'jaccard_macro',\n",
              " 'jaccard_micro',\n",
              " 'jaccard_samples',\n",
              " 'jaccard_weighted',\n",
              " 'matthews_corrcoef',\n",
              " 'max_error',\n",
              " 'mutual_info_score',\n",
              " 'neg_brier_score',\n",
              " 'neg_log_loss',\n",
              " 'neg_mean_absolute_error',\n",
              " 'neg_mean_absolute_percentage_error',\n",
              " 'neg_mean_gamma_deviance',\n",
              " 'neg_mean_poisson_deviance',\n",
              " 'neg_mean_squared_error',\n",
              " 'neg_mean_squared_log_error',\n",
              " 'neg_median_absolute_error',\n",
              " 'neg_negative_likelihood_ratio',\n",
              " 'neg_root_mean_squared_error',\n",
              " 'normalized_mutual_info_score',\n",
              " 'positive_likelihood_ratio',\n",
              " 'precision',\n",
              " 'precision_macro',\n",
              " 'precision_micro',\n",
              " 'precision_samples',\n",
              " 'precision_weighted',\n",
              " 'r2',\n",
              " 'rand_score',\n",
              " 'recall',\n",
              " 'recall_macro',\n",
              " 'recall_micro',\n",
              " 'recall_samples',\n",
              " 'recall_weighted',\n",
              " 'roc_auc',\n",
              " 'roc_auc_ovo',\n",
              " 'roc_auc_ovo_weighted',\n",
              " 'roc_auc_ovr',\n",
              " 'roc_auc_ovr_weighted',\n",
              " 'top_k_accuracy',\n",
              " 'v_measure_score']"
            ]
          },
          "metadata": {},
          "execution_count": 30
        }
      ]
    },
    {
      "cell_type": "code",
      "source": [
        "from sklearn.model_selection import cross_val_score\n",
        "from sklearn.tree import DecisionTreeRegressor\n",
        "\n",
        "\n",
        "# Define a regressor (e.g., RandomForestRegressor)\n",
        "base_regressor = DecisionTreeRegressor()\n",
        "\n",
        "# Wrap the regressor in MultiOutputRegressor\n",
        "multioutput_regressor = MultiOutputRegressor(base_regressor)\n",
        "\n",
        "# Use cross_val_score for evaluation\n",
        "scores = cross_val_score(multioutput_regressor, merged_array,y_train, cv=5, scoring='r2', n_jobs=-1)\n",
        "\n",
        "# Display the mean cross-validated score (negative mean squared error)\n",
        "print(scores)\n",
        "mean_score = scores.mean()\n",
        "print(\"Mean Cross-Validated Score ( R2 score):\", mean_score)\n",
        "\n"
      ],
      "metadata": {
        "colab": {
          "base_uri": "https://localhost:8080/"
        },
        "id": "mFAetIw9P0LS",
        "outputId": "1397cc20-3d36-4efc-a698-1e73ebb77453"
      },
      "execution_count": 34,
      "outputs": [
        {
          "output_type": "stream",
          "name": "stdout",
          "text": [
            "[0.32909689 0.40311601 0.37554648 0.36689167 0.38058655]\n",
            "Mean Cross-Validated Score ( R2 score): 0.37104751898762195\n"
          ]
        }
      ]
    },
    {
      "cell_type": "code",
      "source": [
        "from sklearn.model_selection import cross_val_score\n",
        "from sklearn.linear_model import LinearRegression\n",
        "\n",
        "# Define a regressor (e.g., RandomForestRegressor)\n",
        "base_regressor = LinearRegression()\n",
        "\n",
        "# Wrap the regressor in MultiOutputRegressor\n",
        "multioutput_regressor = MultiOutputRegressor(base_regressor)\n",
        "\n",
        "# Use cross_val_score for evaluation\n",
        "scores = cross_val_score(multioutput_regressor, merged_array,y_train, cv=5, scoring='r2', n_jobs=-1)\n",
        "\n",
        "# Display the mean cross-validated score (negative mean squared error)\n",
        "mean_score = scores.mean()\n",
        "print(scores)\n",
        "print(\"Mean Cross-Validated Score (R2 score):\", mean_score)\n",
        "\n"
      ],
      "metadata": {
        "colab": {
          "base_uri": "https://localhost:8080/"
        },
        "id": "avsqZHsRQpJ-",
        "outputId": "9b2dce23-8ec4-4607-a98d-1d4ce367ec17"
      },
      "execution_count": 36,
      "outputs": [
        {
          "output_type": "stream",
          "name": "stdout",
          "text": [
            "[-1.07546116e+14 -1.51688775e+13 -2.39989320e+13 -1.36712388e+13\n",
            " -2.50601973e+14]\n",
            "Mean Cross-Validated Score (R2 score): -82197427566821.7\n"
          ]
        }
      ]
    },
    {
      "cell_type": "code",
      "source": [
        "from sklearn.model_selection import cross_val_score\n",
        "from sklearn.ensemble import RandomForestRegressor\n",
        "\n",
        "\n",
        "# Define a regressor (e.g., RandomForestRegressor)\n",
        "base_regressor = RandomForestRegressor()\n",
        "\n",
        "# Wrap the regressor in MultiOutputRegressor\n",
        "multioutput_regressor = MultiOutputRegressor(base_regressor)\n",
        "\n",
        "# Use cross_val_score for evaluation\n",
        "scores = cross_val_score(multioutput_regressor, merged_array,y_train, cv=5, scoring='r2', n_jobs=-1)\n",
        "\n",
        "# Display the mean cross-validated score (negative mean squared error)\n",
        "mean_score = scores.mean()\n",
        "print(scores)\n",
        "print(\"Mean Cross-Validated Score (R2 score):\", mean_score)\n",
        "\n"
      ],
      "metadata": {
        "colab": {
          "base_uri": "https://localhost:8080/"
        },
        "id": "89hvEK-eRYh_",
        "outputId": "209205f2-156b-4e63-dbed-b1dcb1cd24a7"
      },
      "execution_count": 37,
      "outputs": [
        {
          "output_type": "stream",
          "name": "stdout",
          "text": [
            "[0.6862061  0.66514509 0.66297606 0.68072218 0.67959122]\n",
            "Mean Cross-Validated Score (R2 score): 0.6749281307273517\n"
          ]
        }
      ]
    },
    {
      "cell_type": "code",
      "source": [
        "from sklearn.model_selection import cross_val_score\n",
        "from sklearn.svm import SVR\n",
        "\n",
        "\n",
        "# Define a regressor\n",
        "base_regressor = SVR()\n",
        "\n",
        "# Wrap the regressor in MultiOutputRegressor\n",
        "multioutput_regressor = MultiOutputRegressor(base_regressor)\n",
        "\n",
        "# Use cross_val_score for evaluation\n",
        "scores = cross_val_score(multioutput_regressor, merged_array,y_train, cv=5, scoring='r2', n_jobs=-1)\n",
        "\n",
        "mean_score = scores.mean()\n",
        "print(scores)\n",
        "print(\"Mean Cross-Validated Score (R2 score):\", mean_score)\n",
        "\n"
      ],
      "metadata": {
        "colab": {
          "base_uri": "https://localhost:8080/"
        },
        "id": "iEIofG-sW5QV",
        "outputId": "a93e9dd8-6137-4564-ba4f-3151d9aa2333"
      },
      "execution_count": 38,
      "outputs": [
        {
          "output_type": "stream",
          "name": "stdout",
          "text": [
            "[0.55015206 0.5439918  0.50693476 0.54704297 0.55585573]\n",
            "Mean Cross-Validated Score (R2 score): 0.5407954619497511\n"
          ]
        }
      ]
    }
  ]
}